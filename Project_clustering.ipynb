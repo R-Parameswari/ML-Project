{
  "nbformat": 4,
  "nbformat_minor": 0,
  "metadata": {
    "colab": {
      "name": "Untitled0.ipynb",
      "provenance": [],
      "authorship_tag": "ABX9TyM5nxV7gvH4v/X2COZ+01k/",
      "include_colab_link": true
    },
    "kernelspec": {
      "name": "python3",
      "display_name": "Python 3"
    },
    "language_info": {
      "name": "python"
    }
  },
  "cells": [
    {
      "cell_type": "markdown",
      "metadata": {
        "id": "view-in-github",
        "colab_type": "text"
      },
      "source": [
        "<a href=\"https://colab.research.google.com/github/R-Parameswari/ML-Project/blob/main/Project_clustering.ipynb\" target=\"_parent\"><img src=\"https://colab.research.google.com/assets/colab-badge.svg\" alt=\"Open In Colab\"/></a>"
      ]
    },
    {
      "cell_type": "code",
      "metadata": {
        "id": "tMB86AqpMKd_"
      },
      "source": [
        "import pandas as pd\n",
        "import numpy as np\n",
        "import matplotlib.pyplot as plt\n",
        "from sklearn import datasets"
      ],
      "execution_count": 1,
      "outputs": []
    },
    {
      "cell_type": "code",
      "metadata": {
        "id": "FAVns8FAMPk2"
      },
      "source": [
        "data_ =datasets.make_moons(75)"
      ],
      "execution_count": 3,
      "outputs": []
    },
    {
      "cell_type": "code",
      "metadata": {
        "colab": {
          "base_uri": "https://localhost:8080/"
        },
        "id": "ECBTLgQGMiQA",
        "outputId": "2286dfc3-2346-4373-e5ec-0eafb742b5b8"
      },
      "source": [
        "data_"
      ],
      "execution_count": 4,
      "outputs": [
        {
          "output_type": "execute_result",
          "data": {
            "text/plain": [
              "(array([[ 9.39692621e-01,  3.42020143e-01],\n",
              "        [-1.73648178e-01,  9.84807753e-01],\n",
              "        [ 1.72195609e+00, -1.91938869e-01],\n",
              "        [-4.22618262e-01,  9.06307787e-01],\n",
              "        [ 9.84807753e-01,  1.73648178e-01],\n",
              "        [ 3.60251146e-03,  4.15194076e-01],\n",
              "        [ 1.00000000e+00,  0.00000000e+00],\n",
              "        [ 1.71490351e-01, -5.99747861e-02],\n",
              "        [-9.84807753e-01,  1.73648178e-01],\n",
              "        [ 6.12323400e-17,  1.00000000e+00],\n",
              "        [-1.00000000e+00,  1.22464680e-16],\n",
              "        [ 2.58819045e-01,  9.65925826e-01],\n",
              "        [ 3.42020143e-01,  9.39692621e-01],\n",
              "        [-8.66025404e-01,  5.00000000e-01],\n",
              "        [ 6.27143522e-01, -4.27889027e-01],\n",
              "        [ 8.72982180e-01, -4.91900435e-01],\n",
              "        [ 1.37285648e+00, -4.27889027e-01],\n",
              "        [ 2.00000000e+00,  5.00000000e-01],\n",
              "        [ 1.96773295e+00,  2.48021939e-01],\n",
              "        [ 1.87301411e+00,  1.23050562e-02],\n",
              "        [ 4.05366824e-01, -3.03997130e-01],\n",
              "        [ 5.00000000e-01,  8.66025404e-01],\n",
              "        [ 1.59463318e+00, -3.03997130e-01],\n",
              "        [-2.58819045e-01,  9.65925826e-01],\n",
              "        [ 8.87715096e-02,  8.80987518e-02],\n",
              "        [ 9.65925826e-01,  2.58819045e-01],\n",
              "        [ 7.89320730e-01, -4.77555239e-01],\n",
              "        [ 8.19152044e-01,  5.73576436e-01],\n",
              "        [ 7.07106781e-01,  7.07106781e-01],\n",
              "        [ 1.45020374e+00, -3.92925858e-01],\n",
              "        [ 7.07177229e-01, -4.56166735e-01],\n",
              "        [ 7.66044443e-01,  6.42787610e-01],\n",
              "        [-3.42020143e-01,  9.39692621e-01],\n",
              "        [ 5.73576436e-01,  8.19152044e-01],\n",
              "        [ 9.96194698e-01,  8.71557427e-02],\n",
              "        [ 8.66025404e-01,  5.00000000e-01],\n",
              "        [-8.19152044e-01,  5.73576436e-01],\n",
              "        [-9.06307787e-01,  4.22618262e-01],\n",
              "        [-5.00000000e-01,  8.66025404e-01],\n",
              "        [-5.73576436e-01,  8.19152044e-01],\n",
              "        [ 0.00000000e+00,  5.00000000e-01],\n",
              "        [ 1.04244120e+00, -4.99098966e-01],\n",
              "        [ 3.22670531e-02,  2.48021939e-01],\n",
              "        [ 9.57558797e-01, -4.99098966e-01],\n",
              "        [ 1.77803575e+00, -1.28219997e-01],\n",
              "        [ 1.12701782e+00, -4.91900435e-01],\n",
              "        [ 1.98561591e+00,  3.30999180e-01],\n",
              "        [ 1.91122849e+00,  8.80987518e-02],\n",
              "        [-8.71557427e-02,  9.96194698e-01],\n",
              "        [-7.07106781e-01,  7.07106781e-01],\n",
              "        [ 4.22618262e-01,  9.06307787e-01],\n",
              "        [ 8.71557427e-02,  9.96194698e-01],\n",
              "        [ 1.73648178e-01,  9.84807753e-01],\n",
              "        [ 6.42787610e-01,  7.66044443e-01],\n",
              "        [ 1.94287745e+00,  1.66860205e-01],\n",
              "        [ 1.29282277e+00, -4.56166735e-01],\n",
              "        [ 1.82850965e+00, -5.99747861e-02],\n",
              "        [ 1.99639749e+00,  4.15194076e-01],\n",
              "        [ 5.49796255e-01, -3.92925858e-01],\n",
              "        [-9.65925826e-01,  2.58819045e-01],\n",
              "        [ 2.21964246e-01, -1.28219997e-01],\n",
              "        [ 9.06307787e-01,  4.22618262e-01],\n",
              "        [ 1.21067927e+00, -4.77555239e-01],\n",
              "        [ 1.66067472e+00, -2.50672305e-01],\n",
              "        [ 1.43840897e-02,  3.30999180e-01],\n",
              "        [ 5.71225545e-02,  1.66860205e-01],\n",
              "        [-6.42787610e-01,  7.66044443e-01],\n",
              "        [-9.39692621e-01,  3.42020143e-01],\n",
              "        [ 1.26985887e-01,  1.23050562e-02],\n",
              "        [ 1.52430728e+00, -3.51529138e-01],\n",
              "        [ 4.75692716e-01, -3.51529138e-01],\n",
              "        [ 3.39325277e-01, -2.50672305e-01],\n",
              "        [-9.96194698e-01,  8.71557427e-02],\n",
              "        [-7.66044443e-01,  6.42787610e-01],\n",
              "        [ 2.78043906e-01, -1.91938869e-01]]),\n",
              " array([0, 0, 1, 0, 0, 1, 0, 1, 0, 0, 0, 0, 0, 0, 1, 1, 1, 1, 1, 1, 1, 0,\n",
              "        1, 0, 1, 0, 1, 0, 0, 1, 1, 0, 0, 0, 0, 0, 0, 0, 0, 0, 1, 1, 1, 1,\n",
              "        1, 1, 1, 1, 0, 0, 0, 0, 0, 0, 1, 1, 1, 1, 1, 0, 1, 0, 1, 1, 1, 1,\n",
              "        0, 0, 1, 1, 1, 1, 0, 0, 1]))"
            ]
          },
          "metadata": {
            "tags": []
          },
          "execution_count": 4
        }
      ]
    },
    {
      "cell_type": "code",
      "metadata": {
        "id": "VnKorTlYMmOu"
      },
      "source": [
        "inputData =pd.DataFrame(data = data_[0])"
      ],
      "execution_count": 5,
      "outputs": []
    },
    {
      "cell_type": "code",
      "metadata": {
        "colab": {
          "base_uri": "https://localhost:8080/",
          "height": 204
        },
        "id": "RDELVsFZMorE",
        "outputId": "a2306c61-2ca0-4c2f-85d3-15b8f274f779"
      },
      "source": [
        "inputData.head()"
      ],
      "execution_count": 6,
      "outputs": [
        {
          "output_type": "execute_result",
          "data": {
            "text/html": [
              "<div>\n",
              "<style scoped>\n",
              "    .dataframe tbody tr th:only-of-type {\n",
              "        vertical-align: middle;\n",
              "    }\n",
              "\n",
              "    .dataframe tbody tr th {\n",
              "        vertical-align: top;\n",
              "    }\n",
              "\n",
              "    .dataframe thead th {\n",
              "        text-align: right;\n",
              "    }\n",
              "</style>\n",
              "<table border=\"1\" class=\"dataframe\">\n",
              "  <thead>\n",
              "    <tr style=\"text-align: right;\">\n",
              "      <th></th>\n",
              "      <th>0</th>\n",
              "      <th>1</th>\n",
              "    </tr>\n",
              "  </thead>\n",
              "  <tbody>\n",
              "    <tr>\n",
              "      <th>0</th>\n",
              "      <td>0.939693</td>\n",
              "      <td>0.342020</td>\n",
              "    </tr>\n",
              "    <tr>\n",
              "      <th>1</th>\n",
              "      <td>-0.173648</td>\n",
              "      <td>0.984808</td>\n",
              "    </tr>\n",
              "    <tr>\n",
              "      <th>2</th>\n",
              "      <td>1.721956</td>\n",
              "      <td>-0.191939</td>\n",
              "    </tr>\n",
              "    <tr>\n",
              "      <th>3</th>\n",
              "      <td>-0.422618</td>\n",
              "      <td>0.906308</td>\n",
              "    </tr>\n",
              "    <tr>\n",
              "      <th>4</th>\n",
              "      <td>0.984808</td>\n",
              "      <td>0.173648</td>\n",
              "    </tr>\n",
              "  </tbody>\n",
              "</table>\n",
              "</div>"
            ],
            "text/plain": [
              "          0         1\n",
              "0  0.939693  0.342020\n",
              "1 -0.173648  0.984808\n",
              "2  1.721956 -0.191939\n",
              "3 -0.422618  0.906308\n",
              "4  0.984808  0.173648"
            ]
          },
          "metadata": {
            "tags": []
          },
          "execution_count": 6
        }
      ]
    },
    {
      "cell_type": "code",
      "metadata": {
        "colab": {
          "base_uri": "https://localhost:8080/",
          "height": 204
        },
        "id": "tAkeo88MMtHz",
        "outputId": "1c7a4d62-249a-40eb-d7ac-b0a9a5ec01fd"
      },
      "source": [
        "outputData = pd.DataFrame(data = data_[1])\n",
        "outputData.head()"
      ],
      "execution_count": 7,
      "outputs": [
        {
          "output_type": "execute_result",
          "data": {
            "text/html": [
              "<div>\n",
              "<style scoped>\n",
              "    .dataframe tbody tr th:only-of-type {\n",
              "        vertical-align: middle;\n",
              "    }\n",
              "\n",
              "    .dataframe tbody tr th {\n",
              "        vertical-align: top;\n",
              "    }\n",
              "\n",
              "    .dataframe thead th {\n",
              "        text-align: right;\n",
              "    }\n",
              "</style>\n",
              "<table border=\"1\" class=\"dataframe\">\n",
              "  <thead>\n",
              "    <tr style=\"text-align: right;\">\n",
              "      <th></th>\n",
              "      <th>0</th>\n",
              "    </tr>\n",
              "  </thead>\n",
              "  <tbody>\n",
              "    <tr>\n",
              "      <th>0</th>\n",
              "      <td>0</td>\n",
              "    </tr>\n",
              "    <tr>\n",
              "      <th>1</th>\n",
              "      <td>0</td>\n",
              "    </tr>\n",
              "    <tr>\n",
              "      <th>2</th>\n",
              "      <td>1</td>\n",
              "    </tr>\n",
              "    <tr>\n",
              "      <th>3</th>\n",
              "      <td>0</td>\n",
              "    </tr>\n",
              "    <tr>\n",
              "      <th>4</th>\n",
              "      <td>0</td>\n",
              "    </tr>\n",
              "  </tbody>\n",
              "</table>\n",
              "</div>"
            ],
            "text/plain": [
              "   0\n",
              "0  0\n",
              "1  0\n",
              "2  1\n",
              "3  0\n",
              "4  0"
            ]
          },
          "metadata": {
            "tags": []
          },
          "execution_count": 7
        }
      ]
    },
    {
      "cell_type": "code",
      "metadata": {
        "colab": {
          "base_uri": "https://localhost:8080/",
          "height": 282
        },
        "id": "O86068OPMxMq",
        "outputId": "ac7fda12-7a02-48bd-95e3-e0578faa50df"
      },
      "source": [
        "plt.scatter(inputData[0], inputData[1])"
      ],
      "execution_count": 8,
      "outputs": [
        {
          "output_type": "execute_result",
          "data": {
            "text/plain": [
              "<matplotlib.collections.PathCollection at 0x7f12d9bbb650>"
            ]
          },
          "metadata": {
            "tags": []
          },
          "execution_count": 8
        },
        {
          "output_type": "display_data",
          "data": {
            "image/png": "[encoded data removed]",
            "text/plain": [
              "<Figure size 432x288 with 1 Axes>"
            ]
          },
          "metadata": {
            "tags": [],
            "needs_background": "light"
          }
        }
      ]
    },
    {
      "cell_type": "code",
      "metadata": {
        "colab": {
          "base_uri": "https://localhost:8080/",
          "height": 282
        },
        "id": "mcAArM1JMy5b",
        "outputId": "7d69621e-2928-468a-f083-2481736cc44e"
      },
      "source": [
        "plt.scatter(inputData[0], inputData[1], c = outputData)"
      ],
      "execution_count": 9,
      "outputs": [
        {
          "output_type": "execute_result",
          "data": {
            "text/plain": [
              "<matplotlib.collections.PathCollection at 0x7f12d96aefd0>"
            ]
          },
          "metadata": {
            "tags": []
          },
          "execution_count": 9
        },
        {
          "output_type": "display_data",
          "data": {
            "image/png": "[encoded data removed]",
            "text/plain": [
              "<Figure size 432x288 with 1 Axes>"
            ]
          },
          "metadata": {
            "tags": [],
            "needs_background": "light"
          }
        }
      ]
    },
    {
      "cell_type": "code",
      "metadata": {
        "colab": {
          "base_uri": "https://localhost:8080/"
        },
        "id": "Qowp75fdNJWj",
        "outputId": "ca7d0d30-56c4-4c8d-c43f-d9b57a2342d0"
      },
      "source": [
        "from sklearn.cluster import KMeans\n",
        "\n",
        "model = KMeans(n_clusters=5)\n",
        "model.fit(inputData)\n"
      ],
      "execution_count": 10,
      "outputs": [
        {
          "output_type": "execute_result",
          "data": {
            "text/plain": [
              "KMeans(algorithm='auto', copy_x=True, init='k-means++', max_iter=300,\n",
              "       n_clusters=5, n_init=10, n_jobs=None, precompute_distances='auto',\n",
              "       random_state=None, tol=0.0001, verbose=0)"
            ]
          },
          "metadata": {
            "tags": []
          },
          "execution_count": 10
        }
      ]
    },
    {
      "cell_type": "code",
      "metadata": {
        "colab": {
          "base_uri": "https://localhost:8080/"
        },
        "id": "hgRojEq4NOxc",
        "outputId": "07867474-8580-4f0b-894d-42f26983f830"
      },
      "source": [
        "model.labels_"
      ],
      "execution_count": 11,
      "outputs": [
        {
          "output_type": "execute_result",
          "data": {
            "text/plain": [
              "array([4, 2, 1, 3, 4, 0, 4, 0, 3, 2, 3, 2, 2, 3, 4, 4, 4, 1, 1, 1, 0, 2,\n",
              "       1, 3, 0, 4, 4, 2, 2, 4, 4, 2, 3, 2, 4, 2, 3, 3, 3, 3, 2, 4, 0, 4,\n",
              "       1, 4, 1, 1, 2, 3, 2, 2, 2, 2, 1, 4, 1, 1, 4, 3, 0, 2, 4, 1, 0, 0,\n",
              "       3, 3, 0, 4, 0, 0, 3, 3, 0], dtype=int32)"
            ]
          },
          "metadata": {
            "tags": []
          },
          "execution_count": 11
        }
      ]
    },
    {
      "cell_type": "code",
      "metadata": {
        "id": "-aJUL7GfNRf7"
      },
      "source": [
        "from sklearn import metrics"
      ],
      "execution_count": 12,
      "outputs": []
    },
    {
      "cell_type": "code",
      "metadata": {
        "colab": {
          "base_uri": "https://localhost:8080/"
        },
        "id": "_Q5clCnXNUnf",
        "outputId": "7400310c-50ae-4a5b-9c0c-cae1c2defc77"
      },
      "source": [
        "metrics.silhouette_score(inputData, model.labels_)"
      ],
      "execution_count": 13,
      "outputs": [
        {
          "output_type": "execute_result",
          "data": {
            "text/plain": [
              "0.4571513350863549"
            ]
          },
          "metadata": {
            "tags": []
          },
          "execution_count": 13
        }
      ]
    },
    {
      "cell_type": "code",
      "metadata": {
        "colab": {
          "base_uri": "https://localhost:8080/",
          "height": 282
        },
        "id": "WIoatwoENYOV",
        "outputId": "c1d3d7cd-f1dc-4ee6-ba3f-ff96eaedaef2"
      },
      "source": [
        "plt.scatter(inputData[0], inputData[1], c = model.labels_)"
      ],
      "execution_count": 14,
      "outputs": [
        {
          "output_type": "execute_result",
          "data": {
            "text/plain": [
              "<matplotlib.collections.PathCollection at 0x7f12ccbd1b90>"
            ]
          },
          "metadata": {
            "tags": []
          },
          "execution_count": 14
        },
        {
          "output_type": "display_data",
          "data": {
            "image/png": "[encoded data removed]",
            "text/plain": [
              "<Figure size 432x288 with 1 Axes>"
            ]
          },
          "metadata": {
            "tags": [],
            "needs_background": "light"
          }
        }
      ]
    },
    {
      "cell_type": "code",
      "metadata": {
        "id": "dE-wkFieNawV"
      },
      "source": [
        "cluster_range = range(1, 20)\n",
        "error_list = []\n",
        "\n",
        "for i in cluster_range:\n",
        "    model = KMeans(n_clusters=i)\n",
        "    model.fit(inputData)\n",
        "    res = model.inertia_\n",
        "    error_list.append(res)"
      ],
      "execution_count": 16,
      "outputs": []
    },
    {
      "cell_type": "code",
      "metadata": {
        "colab": {
          "base_uri": "https://localhost:8080/",
          "height": 295
        },
        "id": "JgqkE1d2Nbp7",
        "outputId": "ab395492-4f1d-4302-f41b-e0106b445859"
      },
      "source": [
        "import matplotlib.pyplot as plt\n",
        "\n",
        "plt.plot(cluster_range, error_list, marker = \"o\", color = \"g\", markersize = 10)\n",
        "plt.xlabel(\"Cluster Range\")\n",
        "plt.ylabel(\"IntraCluster Sum\")\n",
        "plt.title(\"KMeans\")\n",
        "plt.show()"
      ],
      "execution_count": 17,
      "outputs": [
        {
          "output_type": "display_data",
          "data": {
            "image/png": "[encoded data removed]",
            "text/plain": [
              "<Figure size 432x288 with 1 Axes>"
            ]
          },
          "metadata": {
            "tags": [],
            "needs_background": "light"
          }
        }
      ]
    }
  ]
}